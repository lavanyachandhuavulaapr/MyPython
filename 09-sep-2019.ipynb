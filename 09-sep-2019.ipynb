{
 "cells": [
  {
   "cell_type": "markdown",
   "metadata": {},
   "source": [
    "# conditional statements\n"
   ]
  },
  {
   "cell_type": "markdown",
   "metadata": {},
   "source": [
    "1.if statement"
   ]
  },
  {
   "cell_type": "code",
   "execution_count": null,
   "metadata": {},
   "outputs": [],
   "source": [
    "marks=int(input(\"enter marks:\"))\n",
    "pas=50\n",
    "distinction=90"
   ]
  },
  {
   "cell_type": "code",
   "execution_count": null,
   "metadata": {},
   "outputs": [],
   "source": [
    "if marks>=distinction:\n",
    "    print(\"you r a topper\")\n",
    "if marks>=pas and marks<distinction:\n",
    "    print(\"you r pass\")\n",
    "if marks<pas:\n",
    "    print(\"you r fail\")\n"
   ]
  },
  {
   "cell_type": "code",
   "execution_count": null,
   "metadata": {},
   "outputs": [],
   "source": [
    "statement=\"the coffee is bad\"\n",
    "if 'bad' in statement:\n",
    "    print(\"bad review\")\n",
    "statement=\"iam very good\"\n",
    "if 'bad' in statement:\n",
    "    print(\"good review\")\n"
   ]
  },
  {
   "cell_type": "markdown",
   "metadata": {},
   "source": [
    "2.if else statement"
   ]
  },
  {
   "cell_type": "code",
   "execution_count": null,
   "metadata": {},
   "outputs": [],
   "source": [
    "n=int(input(\"enter a no:\"))\n"
   ]
  },
  {
   "cell_type": "code",
   "execution_count": null,
   "metadata": {},
   "outputs": [],
   "source": [
    "k=int(input(\"entet no\"))\n",
    "if(k%2==0):\n",
    "    if(k%4==0):\n",
    "        print(\"it is an even no and divisible by 4\")\n",
    "    else:\n",
    "        print(\"it is an even no and not divisible by 4\")\n",
    "else:\n",
    "    if(k%3==0):\n",
    "        print(\"it is an odd no and divisible by 3\")\n",
    "    else:\n",
    "        print(\"it is an odd no and not divisible by 3\")\n",
    "    \n"
   ]
  },
  {
   "cell_type": "code",
   "execution_count": null,
   "metadata": {},
   "outputs": [],
   "source": [
    "#check if a year is leap year or not\n",
    "year=int(input(\"enter an year:\"))\n",
    "if(year%400==0 or (year%4==0 and year%100!=0)):\n",
    "    print(\"leap year\")\n",
    "            "
   ]
  },
  {
   "cell_type": "code",
   "execution_count": null,
   "metadata": {},
   "outputs": [],
   "source": [
    "#check if a no exists in given range(inclusive)\n",
    "i=143\n",
    "lb=10\n",
    "ub=200\n",
    "if i>=lb and i<=ub:\n",
    "    print(\"no exists\")\n",
    "else:\n",
    "    print(\"no not exists\")"
   ]
  },
  {
   "cell_type": "code",
   "execution_count": null,
   "metadata": {},
   "outputs": [],
   "source": [
    "#check if a no is a factor of 100\n",
    "n=int(input(\"enter a no:\"))\n",
    "if(n%100==0):\n",
    "    print(\"given no is a factor of 100\")\n",
    "else:\n",
    "    print(\"given no is not a factor of 100\")"
   ]
  },
  {
   "cell_type": "code",
   "execution_count": null,
   "metadata": {},
   "outputs": [],
   "source": [
    "#check if given string is equal to a no\n",
    "no=123\n",
    "s=\"python\"\n",
    "if str(no)==s:\n",
    "    print(\"equal\")\n",
    "else:\n",
    "    print(\"not equal\")"
   ]
  },
  {
   "cell_type": "code",
   "execution_count": null,
   "metadata": {},
   "outputs": [],
   "source": [
    "#check if a given  no is multiple of 10\n",
    "n=int(input(\"enter a no:\"))\n",
    "if(n%10==0):\n",
    "    print(\"multiple of 10\")\n",
    "else:\n",
    "    print(\"not a multiple\")\n",
    "    "
   ]
  },
  {
   "cell_type": "code",
   "execution_count": null,
   "metadata": {},
   "outputs": [],
   "source": [
    "#calculate the no of nano sec in agiven year(consider leap year)\n",
    "n=int(input(\"enter a no:\"))\n",
    "if(n%400==0 or (n%4==0 and n%100!=0)):\n",
    "    print(366*24*60*60*10**9)\n",
    "else:\n",
    "    print(365*24*24*60*60*10**9)"
   ]
  },
  {
   "cell_type": "code",
   "execution_count": null,
   "metadata": {},
   "outputs": [],
   "source": [
    "#find the greatest of 3 no's\n",
    "n=int(input(\"enter a no:\"))\n",
    "k=int(input(\"enter a no:\"))\n",
    "j=int(input(\"enter a no:\"))\n",
    "if(n>k and n>j):\n",
    "    print(n,\" is greter\")\n",
    "elif(k>n and k>j):\n",
    "    print(k,\" is greater\")\n",
    "else:\n",
    "    print(j,\"is greater\")"
   ]
  },
  {
   "cell_type": "markdown",
   "metadata": {},
   "source": [
    "#4. nested if"
   ]
  },
  {
   "cell_type": "code",
   "execution_count": null,
   "metadata": {},
   "outputs": [],
   "source": [
    "#take an input from the keyboard\n",
    "#check the no is positive or negative or zero display\n",
    "n=int(input(\"enter a no:\"))\n",
    "if(n>=0):\n",
    "    if(n==0):\n",
    "        print(\"zero\")\n",
    "    else:\n",
    "        print(\"positive no\")\n",
    "else:\n",
    "    print(\"negative no\")"
   ]
  },
  {
   "cell_type": "markdown",
   "metadata": {},
   "source": [
    "# task"
   ]
  },
  {
   "cell_type": "code",
   "execution_count": null,
   "metadata": {},
   "outputs": [],
   "source": [
    "#calculate square root of a given no\n",
    "n=int(input(\"enter a no:\"))\n",
    "for i in range (1,n//2+1):\n",
    "    if(i*i==n):\n",
    "        print(i)\n"
   ]
  },
  {
   "cell_type": "markdown",
   "metadata": {},
   "source": [
    "# Tasks in my website"
   ]
  },
  {
   "cell_type": "markdown",
   "metadata": {},
   "source": [
    "# Iterations/Loops"
   ]
  },
  {
   "cell_type": "code",
   "execution_count": null,
   "metadata": {},
   "outputs": [],
   "source": [
    "range(5)"
   ]
  },
  {
   "cell_type": "raw",
   "metadata": {},
   "source": []
  },
  {
   "cell_type": "code",
   "execution_count": null,
   "metadata": {},
   "outputs": [],
   "source": [
    "for i in range(5):\n",
    "    print(i)"
   ]
  },
  {
   "cell_type": "code",
   "execution_count": null,
   "metadata": {},
   "outputs": [],
   "source": [
    "s=\"hello\"\n",
    "for i in s:\n",
    "    print(i)"
   ]
  },
  {
   "cell_type": "code",
   "execution_count": null,
   "metadata": {},
   "outputs": [],
   "source": [
    "#print hello in single line seperated by ,\n",
    "s=\"hello\"\n",
    "for i in s:\n",
    "    print(i,end=\",\")"
   ]
  },
  {
   "cell_type": "code",
   "execution_count": null,
   "metadata": {},
   "outputs": [],
   "source": [
    "s=\"hello\"\n",
    "for i in s:\n",
    "    print(i,sep=\",\")"
   ]
  },
  {
   "cell_type": "code",
   "execution_count": null,
   "metadata": {},
   "outputs": [],
   "source": [
    "print(43,56,sep=\",\")\n",
    "print(43,56)"
   ]
  },
  {
   "cell_type": "code",
   "execution_count": null,
   "metadata": {},
   "outputs": [],
   "source": [
    "for i in range(1,11):\n",
    "    if i%2==0:\n",
    "        print(i,end=\" \")"
   ]
  },
  {
   "cell_type": "code",
   "execution_count": null,
   "metadata": {},
   "outputs": [],
   "source": [
    "for i in range(2,11,2):\n",
    "    print(i,end=\" \")"
   ]
  },
  {
   "cell_type": "code",
   "execution_count": null,
   "metadata": {},
   "outputs": [],
   "source": [
    "for i in range(1,10,2):\n",
    "    print(i,end=\" \")\n",
    "    "
   ]
  },
  {
   "cell_type": "code",
   "execution_count": null,
   "metadata": {},
   "outputs": [],
   "source": [
    "for i in range(7,1000,7):\n",
    "    print(i,end=\",\")"
   ]
  },
  {
   "cell_type": "code",
   "execution_count": null,
   "metadata": {},
   "outputs": [],
   "source": [
    "for i in range(994,1,-7):\n",
    "    print(i,end=\",\")"
   ]
  },
  {
   "cell_type": "code",
   "execution_count": null,
   "metadata": {},
   "outputs": [],
   "source": [
    "for i in range(50,100,2):\n",
    "    print(i,end=\" \")"
   ]
  },
  {
   "cell_type": "markdown",
   "metadata": {},
   "source": [
    "# 2. while loop"
   ]
  },
  {
   "cell_type": "code",
   "execution_count": null,
   "metadata": {},
   "outputs": [],
   "source": [
    "i=1\n",
    "while(i<=10):\n",
    "    print(i,end=\" \")\n",
    "    i=i+1"
   ]
  },
  {
   "cell_type": "code",
   "execution_count": 2,
   "metadata": {},
   "outputs": [
    {
     "name": "stdout",
     "output_type": "stream",
     "text": [
      "3\n",
      "6 7 8 9 10 11 12 13 14 15 16 17 18 19 20 21 22 23 24 25 26 27 28 29 30 31 32 33 34 35 36 37 38 39 40 41 42 43 44 45 46 47 48 49 50 51 52 53 54 55 56 57 58 59 60 61 62 63 64 65 66 67 68 69 70 71 72 73 74 75 76 77 78 79 80 81 82 83 84 85 86 87 88 89 90 91 92 93 94 95 96 97 98 99 100 101 102 103 "
     ]
    }
   ],
   "source": [
    "i=3\n",
    "print(i)\n",
    "while(i<=100):\n",
    "    print(i+3,end=\" \")\n",
    "    i=i+1"
   ]
  },
  {
   "cell_type": "code",
   "execution_count": 4,
   "metadata": {},
   "outputs": [
    {
     "name": "stdout",
     "output_type": "stream",
     "text": [
      "100 97 96 95 94 93 92 91 90 89 88 87 86 85 84 83 82 81 80 79 78 77 76 75 74 73 72 71 70 69 68 67 66 65 64 63 62 61 60 59 58 57 56 55 54 53 52 51 50 49 48 47 46 45 44 43 42 41 40 39 38 37 36 35 34 33 32 31 30 29 28 27 26 25 24 23 22 21 20 19 18 17 16 15 14 13 12 11 10 9 8 7 6 5 4 3 2 1 0 "
     ]
    }
   ],
   "source": [
    "i=100\n",
    "print(i,end=\" \")\n",
    "while(i>=3):\n",
    "    print(i-3,end=\" \")\n",
    "    i=i-1"
   ]
  },
  {
   "cell_type": "code",
   "execution_count": 6,
   "metadata": {},
   "outputs": [
    {
     "name": "stdout",
     "output_type": "stream",
     "text": [
      "lavanya\n",
      "l\n",
      "a\n",
      "v\n",
      "a\n",
      "n\n",
      "y\n",
      "a\n"
     ]
    }
   ],
   "source": [
    "s=input()\n",
    "i=0\n",
    "while(i<len(s)):\n",
    "    print(s[i])\n",
    "    i=i+1"
   ]
  },
  {
   "cell_type": "code",
   "execution_count": 10,
   "metadata": {},
   "outputs": [
    {
     "name": "stdout",
     "output_type": "stream",
     "text": [
      "4\n",
      "1 2 3 4 "
     ]
    }
   ],
   "source": [
    "def nat(n):\n",
    "    for i in range(1,n+1):\n",
    "        print(i,end=\" \")\n",
    "n=int(input())\n",
    "nat(n)"
   ]
  },
  {
   "cell_type": "code",
   "execution_count": 12,
   "metadata": {},
   "outputs": [
    {
     "name": "stdout",
     "output_type": "stream",
     "text": [
      "4\n",
      "1  \n",
      "2  \n",
      "3  \n",
      "4  \n"
     ]
    }
   ],
   "source": [
    "def natr(n):\n",
    "    i=1\n",
    "    while(i<=n):\n",
    "        print(i,\" \")\n",
    "        i=i+1\n",
    "n=int(input())\n",
    "natr(n)\n",
    "    "
   ]
  },
  {
   "cell_type": "code",
   "execution_count": 19,
   "metadata": {},
   "outputs": [
    {
     "name": "stdout",
     "output_type": "stream",
     "text": [
      "500\n",
      "550\n",
      "500 502 504 506 508 510 512 514 516 518 520 522 524 526 528 530 532 534 536 538 540 542 544 546 548 550 "
     ]
    }
   ],
   "source": [
    "#function to print alternater values in range in the same line\n",
    "def alt(lb,ub):\n",
    "    for i in range(lb,ub+1,2):\n",
    "        print(i,end=\" \")\n",
    "lb=int(input())\n",
    "ub=int(input())\n",
    "alt(lb,ub)"
   ]
  },
  {
   "cell_type": "code",
   "execution_count": 23,
   "metadata": {},
   "outputs": [
    {
     "name": "stdout",
     "output_type": "stream",
     "text": [
      "10\n",
      "10,9,8,7,6,5,4,3,2,"
     ]
    }
   ],
   "source": [
    "#function to print reverse of given range in same line\n",
    "def rev():\n",
    "    for i in range(n,1,-1):\n",
    "        print(i,end=\",\")\n",
    "n=int(input())\n",
    "rev()"
   ]
  },
  {
   "cell_type": "code",
   "execution_count": 28,
   "metadata": {},
   "outputs": [
    {
     "name": "stdout",
     "output_type": "stream",
     "text": [
      "2\n",
      "3\n",
      "2\n"
     ]
    }
   ],
   "source": [
    "#function to calculate the avg of given no's\n",
    "def avg(a,b):\n",
    "    print((a+b)//2)\n",
    "a=int(input())\n",
    "b=int(input())\n",
    "avg(a,b)"
   ]
  },
  {
   "cell_type": "code",
   "execution_count": 32,
   "metadata": {},
   "outputs": [
    {
     "name": "stdout",
     "output_type": "stream",
     "text": [
      "4\n",
      "6\n"
     ]
    }
   ],
   "source": [
    "#function to calculate the sum of no's in the given range\n",
    "def sum(n):\n",
    "    sum=0\n",
    "    for i in range(1,n):\n",
    "        sum=sum+i\n",
    "    print(sum)\n",
    "n=int(input())\n",
    "sum(n)"
   ]
  },
  {
   "cell_type": "code",
   "execution_count": null,
   "metadata": {},
   "outputs": [],
   "source": [
    "#"
   ]
  }
 ],
 "metadata": {
  "kernelspec": {
   "display_name": "Python 3",
   "language": "python",
   "name": "python3"
  },
  "language_info": {
   "codemirror_mode": {
    "name": "ipython",
    "version": 3
   },
   "file_extension": ".py",
   "mimetype": "text/x-python",
   "name": "python",
   "nbconvert_exporter": "python",
   "pygments_lexer": "ipython3",
   "version": "3.7.3"
  }
 },
 "nbformat": 4,
 "nbformat_minor": 2
}

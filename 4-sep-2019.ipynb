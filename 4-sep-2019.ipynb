{
 "cells": [
  {
   "cell_type": "markdown",
   "metadata": {},
   "source": [
    "### Markdown Basics\n",
    "\n",
    "# Heading 1\n",
    "## Heading 2\n",
    "* Normal Text\n",
    "* **Bold**\n",
    "* ***IB***\n",
    "* *italic*\n",
    "* text\n",
    "    * sublist1\n",
    "    * sublist 2\n",
    "> ordered list 1\n",
    "> ordered list 2\n",
    "- [ ] option 1\n",
    "- [ ] option 2\n",
    "- [x] option 3\n",
    "\\*escape\n",
    "[link](https://gmail.com)\n",
    "\n",
    "i have 10 items [google] [1] than from [yahoo] [2]\n",
    " [1]: http://google.com/ \"google search\"\n",
    " [2]: http://search.yahoo.com/ \"yahoo search\n",
    "\n",
    "<https://google.com>\n",
    "[jupyter logo](logo.png)\n",
    "\n",
    "<img src=\"logo.png\" height=\"50px \n",
    "\n"
   ]
  },
  {
   "cell_type": "code",
   "execution_count": null,
   "metadata": {},
   "outputs": [],
   "source": []
  }
 ],
 "metadata": {
  "kernelspec": {
   "display_name": "Python 3",
   "language": "python",
   "name": "python3"
  },
  "language_info": {
   "codemirror_mode": {
    "name": "ipython",
    "version": 3
   },
   "file_extension": ".py",
   "mimetype": "text/x-python",
   "name": "python",
   "nbconvert_exporter": "python",
   "pygments_lexer": "ipython3",
   "version": "3.7.3"
  }
 },
 "nbformat": 4,
 "nbformat_minor": 2
}

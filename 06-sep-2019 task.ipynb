{
 "cells": [
  {
   "cell_type": "code",
   "execution_count": 7,
   "metadata": {},
   "outputs": [
    {
     "name": "stdout",
     "output_type": "stream",
     "text": [
      "enter lower bound:1\n",
      "enter lower bound:100\n",
      "6\n",
      "12\n",
      "18\n",
      "24\n",
      "30\n",
      "36\n",
      "42\n",
      "48\n",
      "54\n",
      "60\n",
      "66\n",
      "72\n",
      "78\n",
      "84\n",
      "90\n",
      "96\n"
     ]
    }
   ],
   "source": [
    "def t1(n,k):\n",
    "    for i in range(n,k+1):\n",
    "        if(i%6==0):\n",
    "            if(100%i!=0):\n",
    "                print(i)\n",
    "n=int(input(\"enter lower bound:\"))\n",
    "k=int(input(\"enter lower bound:\"))\n",
    "t1(n,k)\n",
    "    \n"
   ]
  },
  {
   "cell_type": "code",
   "execution_count": 10,
   "metadata": {},
   "outputs": [
    {
     "name": "stdout",
     "output_type": "stream",
     "text": [
      "enter lower bound:1\n",
      "enter lower bound:2\n",
      "8\n"
     ]
    }
   ],
   "source": [
    "\n",
    "def t2(n,k):\n",
    "    sum=0\n",
    "    c=0\n",
    "    for i in range(n,k+1):\n",
    "        if(i%2==0):\n",
    "            sum=sum+i**3\n",
    "            c=c+1\n",
    "    avg=sum//c\n",
    "    print(avg)\n",
    "n=int(input(\"enter lower bound:\"))\n",
    "k=int(input(\"enter lower bound:\"))\n",
    "t2(n,k)\n",
    "\n",
    "        \n",
    "        \n",
    "    \n"
   ]
  },
  {
   "cell_type": "code",
   "execution_count": 12,
   "metadata": {},
   "outputs": [
    {
     "name": "stdout",
     "output_type": "stream",
     "text": [
      "enter no6\n",
      "1\n",
      "2\n",
      "3\n",
      "6\n"
     ]
    }
   ],
   "source": [
    "#Function to generate the list of factors for a given number\n",
    "def t3(n):\n",
    "    for i in range(1,n+1):\n",
    "        if(n%i==0):\n",
    "            print(i)\n",
    "n=int(input(\"enter no\"))\n",
    "t3(n)\n",
    "        \n",
    "    \n"
   ]
  },
  {
   "cell_type": "code",
   "execution_count": null,
   "metadata": {},
   "outputs": [],
   "source": [
    "#Function to calculate the factorial of a given number\n"
   ]
  }
 ],
 "metadata": {
  "kernelspec": {
   "display_name": "Python 3",
   "language": "python",
   "name": "python3"
  },
  "language_info": {
   "codemirror_mode": {
    "name": "ipython",
    "version": 3
   },
   "file_extension": ".py",
   "mimetype": "text/x-python",
   "name": "python",
   "nbconvert_exporter": "python",
   "pygments_lexer": "ipython3",
   "version": "3.7.3"
  }
 },
 "nbformat": 4,
 "nbformat_minor": 2
}
